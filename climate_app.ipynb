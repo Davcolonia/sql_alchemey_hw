{
 "cells": [
  {
   "cell_type": "code",
   "execution_count": 1,
   "metadata": {},
   "outputs": [],
   "source": [
    "import sqlalchemy\n",
    "import numpy as np\n",
    "import pandas as pd\n",
    "from sqlalchemy.ext.automap import automap_base\n",
    "from sqlalchemy.orm import Session\n",
    "from sqlalchemy import create_engine, func\n",
    "import datetime as dt \n",
    "from flask import Flask, jsonify"
   ]
  },
  {
   "cell_type": "code",
   "execution_count": 2,
   "metadata": {},
   "outputs": [],
   "source": [
    "engine = create_engine('sqlite:///Resources/hawaii.sqlite')"
   ]
  },
  {
   "cell_type": "code",
   "execution_count": 3,
   "metadata": {},
   "outputs": [],
   "source": [
    "Base = automap_base()"
   ]
  },
  {
   "cell_type": "code",
   "execution_count": 4,
   "metadata": {},
   "outputs": [],
   "source": [
    "Base.prepare(engine,reflect= True)"
   ]
  },
  {
   "cell_type": "code",
   "execution_count": 5,
   "metadata": {},
   "outputs": [],
   "source": [
    "Measurement = Base.classes.measurement\n",
    "Station = Base.classes.station"
   ]
  },
  {
   "cell_type": "code",
   "execution_count": 6,
   "metadata": {},
   "outputs": [],
   "source": [
    "session = Session(engine)"
   ]
  },
  {
   "cell_type": "code",
   "execution_count": 7,
   "metadata": {},
   "outputs": [],
   "source": [
    "app = Flask(__name__)"
   ]
  },
  {
   "cell_type": "code",
   "execution_count": 8,
   "metadata": {},
   "outputs": [],
   "source": [
    "@app.route(\"/\")\n",
    "def welcome():\n",
    "    \"\"\"List all available api routes.\"\"\"\n",
    "    return (\n",
    "        f'Available Routes: <br/>'\n",
    "        f'/api/v1.0/percipitation/<br/>'\n",
    "        f'/api/v1.0/stations<br/>'\n",
    "        f'/api/v1.0/tobs<br/>'\n",
    "        f'/api/v1.0/2017-06-03<br/>'\n",
    "        f'/api/v1.0/2017-06-03/2018-06-03'\n",
    "        )"
   ]
  },
  {
   "cell_type": "code",
   "execution_count": 9,
   "metadata": {},
   "outputs": [],
   "source": [
    "@app.route('/api/v1.0/precipitation')\n",
    "def percipitation():\n",
    "    # Query for the dates and precipitation observations\n",
    "   # from the last year.\n",
    "   # Retrieving the data from 12 months before 8/23/2017\n",
    "   # (assuming current date is 8/23/2017)\n",
    "    rain = session.query(Measurement.date, Measurement.prcp). \\\n",
    "    filter(Measurement.date>='2016-08-23').all()\n",
    "    #dictionary using date as the key and prcp as the value\n",
    "    prec_dict = {date: prcp for date, prcp in rain}\n",
    "    return jsonify(prec_dict)"
   ]
  },
  {
   "cell_type": "code",
   "execution_count": 10,
   "metadata": {},
   "outputs": [],
   "source": [
    "@app.route('/api/v1.0/stations')\n",
    "def station():\n",
    "     # Retrieve the names of all the active stations from Station\n",
    "   # and count of observations\n",
    "    active_stations = session.query(Measurement.station, func.count(Measurement.tobs)).group_by(Measurement.station).all()\n",
    "    stations_list = list(np.ravel(active_stations))\n",
    "    return jsonify(stations_list)"
   ]
  },
  {
   "cell_type": "code",
   "execution_count": 12,
   "metadata": {},
   "outputs": [],
   "source": [
    "@app.route('/api/v1.0/tobs')\n",
    "def tobs():\n",
    "    # Return a json list of Temperature Observations (tobs)\n",
    "   # for the previous year\n",
    "   # Retrieving the data from 12 months before 8/23/2017\n",
    "   # (assuming current date is 8/23/2017)\n",
    "    tobs_data = session.query(Measurement.date,Measurement.tobs).filter(Measurement.date >= '2016-08-23').filter(Measurement.station=='USC00519281').all()\n",
    "    tobs_dict = {dict:tobs for date, tobs in tobs_data}\n",
    "    return jsonify(tobs_dict)"
   ]
  },
  {
   "cell_type": "code",
   "execution_count": 18,
   "metadata": {},
   "outputs": [],
   "source": [
    "@app.route('/api/v1.0/<start_date>')\n",
    "@app.route(\"/api/v1.0/<start_date>/<end_date>\")\n",
    "def calc_temps(start_date=None, end_date=None):\n",
    "    if not end_date:\n",
    "        results = session.query(func.min(Measurement.tobs),func.avg(Measurement.tobs),func.max(Measurement.tobs)).filter(Measurement.date >=start_date).all()\n",
    "        return jsonify(list(np.ravel(results)))\n",
    "    else:\n",
    "        results = session.query(func.min(Measurement.tobs), func.avg(Measuremen.tobs), func.max(Measurement.tobs)).filter(Measurement.date>=start_date).filter(Measurement.date<=end_date).all()\n",
    "        return jsonify(list(np.ravel(results)))\n",
    "    "
   ]
  },
  {
   "cell_type": "code",
   "execution_count": null,
   "metadata": {},
   "outputs": [],
   "source": [
    "#trip_temp_min, trip_temp_avg, trip_temp_max = calc_temps(str(input(“Enter a Start Date (yyyy-mm-dd): “)), \\\n",
    "                                                        #str(input(“Enter an End Date (yyyy-mm-dd): “)))[0]\n",
    "#print(trip_temp_min, trip_temp_avg, trip_temp_max)\n",
    "#print(“Minimum Temperature: {}“.format(trip_temp_min))\n",
    "#print(“Average Temperature: {}“.format(trip_temp_avg))\n",
    "#print(“Maximum Temperature: {}“.format(trip_temp_max))\n",
    "if __name__ = '__main__':\n",
    "    app.run(debug=True)"
   ]
  }
 ],
 "metadata": {
  "kernelspec": {
   "display_name": "Python 3",
   "language": "python",
   "name": "python3"
  },
  "language_info": {
   "codemirror_mode": {
    "name": "ipython",
    "version": 3
   },
   "file_extension": ".py",
   "mimetype": "text/x-python",
   "name": "python",
   "nbconvert_exporter": "python",
   "pygments_lexer": "ipython3",
   "version": "3.6.5"
  }
 },
 "nbformat": 4,
 "nbformat_minor": 2
}
